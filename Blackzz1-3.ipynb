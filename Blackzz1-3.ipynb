{
 "cells": [
  {
   "cell_type": "code",
   "execution_count": 1,
   "metadata": {},
   "outputs": [
    {
     "name": "stdout",
     "output_type": "stream",
     "text": [
      "Ezio Auditore\n"
     ]
    }
   ],
   "source": [
    "#Display a data\n",
    "print(\"Ezio Auditore\")"
   ]
  },
  {
   "cell_type": "code",
   "execution_count": 2,
   "metadata": {},
   "outputs": [
    {
     "name": "stdout",
     "output_type": "stream",
     "text": [
      "Tommy 23\n"
     ]
    }
   ],
   "source": [
    "#To format a output\n",
    "print(\"Tommy\",11+12)\n"
   ]
  },
  {
   "cell_type": "code",
   "execution_count": 34,
   "metadata": {},
   "outputs": [
    {
     "name": "stdout",
     "output_type": "stream",
     "text": [
      "      Ford     3.141      1729\n"
     ]
    }
   ],
   "source": [
    "#10 denotes the spacing in the o/p\n",
    "print(\"%10s%10.3f%10d\"%(\"Ford\",3.141,1729))"
   ]
  },
  {
   "cell_type": "code",
   "execution_count": 39,
   "metadata": {},
   "outputs": [
    {
     "name": "stdout",
     "output_type": "stream",
     "text": [
      "23\n",
      "<class 'int'>\n",
      "Aiden\n",
      "<class 'str'>\n",
      "2.0000003000\n",
      "<class 'float'>\n",
      "(2+3j)\n",
      "<class 'complex'>\n",
      "True\n",
      "<class 'bool'>\n"
     ]
    }
   ],
   "source": [
    "#Assigning variables and their types\n",
    "a=23\n",
    "print(a)\n",
    "print(type(a))\n",
    "\n",
    "z=\"Aiden\"\n",
    "print(z)\n",
    "print(type(z))\n",
    "\n",
    "y=2.0000003\n",
    "print(\"%10.10f\"%y)\n",
    "print(type(y))\n",
    "\n",
    "r=2+3j\n",
    "print(r)\n",
    "print(type(r))\n",
    "\n",
    "u=True\n",
    "print(u)\n",
    "print(type(u))"
   ]
  },
  {
   "cell_type": "code",
   "execution_count": 13,
   "metadata": {},
   "outputs": [
    {
     "name": "stdout",
     "output_type": "stream",
     "text": [
      "66\n",
      "Z\n"
     ]
    }
   ],
   "source": [
    "#conversion ASCII and char\n",
    "print(ord(\"B\"))\n",
    "print(chr(90))"
   ]
  },
  {
   "cell_type": "code",
   "execution_count": 3,
   "metadata": {},
   "outputs": [
    {
     "name": "stdout",
     "output_type": "stream",
     "text": [
      "Assign the value for x::4\n",
      "Assign the value for y::5\n",
      "4 5\n",
      "The result is = 1024\n"
     ]
    }
   ],
   "source": [
    "#Runtime input using int(input()) and input()\n",
    "x=int(input(\"Assign the value for x::\"))\n",
    "y=int(input(\"Assign the value for y::\"))\n",
    "z=x**y\n",
    "print(x,y)\n",
    "print(\"The result is =\",z)"
   ]
  },
  {
   "cell_type": "code",
   "execution_count": 6,
   "metadata": {},
   "outputs": [
    {
     "name": "stdout",
     "output_type": "stream",
     "text": [
      "Enter a::3\n",
      "Enter b::4\n",
      "3 4\n",
      "the result is = 34\n"
     ]
    }
   ],
   "source": [
    "a=input(\"Enter a::\")\n",
    "b=input(\"Enter b::\")\n",
    "c=a+b\n",
    "print(a,b)\n",
    "print(\"the result is =\",c)\n"
   ]
  },
  {
   "cell_type": "code",
   "execution_count": 23,
   "metadata": {},
   "outputs": [
    {
     "name": "stdout",
     "output_type": "stream",
     "text": [
      "x = 23\n",
      "y = 32\n",
      "55 -9 736 41538374868278621028243970633760768 1.391304347826087 9\n"
     ]
    }
   ],
   "source": [
    "#Using arithmetic operators\n",
    "x=23\n",
    "y=32\n",
    "print(\"x = 23\")\n",
    "print(\"y = 32\")\n",
    "print(x+y,(x-y),y*x,y**x,y/x,y%x)"
   ]
  },
  {
   "cell_type": "code",
   "execution_count": 57,
   "metadata": {},
   "outputs": [
    {
     "name": "stdout",
     "output_type": "stream",
     "text": [
      "Equal:: False\n",
      "Greater than:: False\n",
      "Lesser than:: True\n",
      "Greater than or equal to:: False\n",
      "Not equal:: True\n"
     ]
    }
   ],
   "source": [
    "#Using relation operators\n",
    "c=45\n",
    "d=56\n",
    "print(\"Equal::\",c==d)\n",
    "print(\"Greater than::\",(c>d))\n",
    "print(\"Lesser than::\",(c<=d))\n",
    "print(\"Greater than or equal to::\",(c>=d))\n",
    "print(\"Not equal::\",(c!=d))"
   ]
  },
  {
   "cell_type": "code",
   "execution_count": 42,
   "metadata": {},
   "outputs": [
    {
     "name": "stdout",
     "output_type": "stream",
     "text": [
      "False\n",
      "True\n",
      "True\n"
     ]
    }
   ],
   "source": [
    "#Using logical operators\n",
    "a=3\n",
    "b=4\n",
    "print((a==b) and(a>=b))\n",
    "print((a==b) or (a<=b))\n",
    "print(not(a>=b))"
   ]
  },
  {
   "cell_type": "code",
   "execution_count": 56,
   "metadata": {},
   "outputs": [
    {
     "name": "stdout",
     "output_type": "stream",
     "text": [
      "The 1st ans:: 10\n",
      "The 2nd ans:: 0\n",
      "The 3rd ans:: 0\n",
      "The 4th ans:: 1\n"
     ]
    }
   ],
   "source": [
    "#Using Assignment operators\n",
    "h=5\n",
    "h+=h\n",
    "print(\"The 1st ans::\",h)\n",
    "h-=h\n",
    "print(\"The 2nd ans::\",h)\n",
    "h*=h\n",
    "print(\"The 3rd ans::\",h)\n",
    "h**=h\n",
    "print(\"The 4th ans::\",h)"
   ]
  }
 ],
 "metadata": {
  "kernelspec": {
   "display_name": "Python 3",
   "language": "python",
   "name": "python3"
  },
  "language_info": {
   "codemirror_mode": {
    "name": "ipython",
    "version": 3
   },
   "file_extension": ".py",
   "mimetype": "text/x-python",
   "name": "python",
   "nbconvert_exporter": "python",
   "pygments_lexer": "ipython3",
   "version": "3.8.5"
  }
 },
 "nbformat": 4,
 "nbformat_minor": 4
}
